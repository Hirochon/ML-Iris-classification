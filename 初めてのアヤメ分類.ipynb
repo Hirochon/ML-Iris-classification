{
  "nbformat": 4,
  "nbformat_minor": 0,
  "metadata": {
    "colab": {
      "name": "初めてのアヤメ分類",
      "provenance": [],
      "collapsed_sections": [],
      "include_colab_link": true
    },
    "kernelspec": {
      "name": "python3",
      "display_name": "Python 3"
    }
  },
  "cells": [
    {
      "cell_type": "markdown",
      "metadata": {
        "id": "view-in-github",
        "colab_type": "text"
      },
      "source": [
        "<a href=\"https://colab.research.google.com/github/Hirochon/ML-Iris-classification/blob/master/%E5%88%9D%E3%82%81%E3%81%A6%E3%81%AE%E3%82%A2%E3%83%A4%E3%83%A1%E5%88%86%E9%A1%9E.ipynb\" target=\"_parent\"><img src=\"https://colab.research.google.com/assets/colab-badge.svg\" alt=\"Open In Colab\"/></a>"
      ]
    },
    {
      "cell_type": "markdown",
      "metadata": {
        "id": "V6QqpLZ3-gTK",
        "colab_type": "text"
      },
      "source": [
        "# Scikit-Learnでアヤメ分類しよう！"
      ]
    },
    {
      "cell_type": "markdown",
      "metadata": {
        "id": "FU2UoSO__GCp",
        "colab_type": "text"
      },
      "source": [
        "## 1．色々とインポートしていく。\n",
        "\n",
        "\n",
        "*   Numpy\n",
        "*   Pandas\n",
        "*   matplot\n",
        "*   warnings\n"
      ]
    },
    {
      "cell_type": "code",
      "metadata": {
        "id": "GYnPlheR2qNT",
        "colab_type": "code",
        "colab": {}
      },
      "source": [
        "## 鉄板ライブラリ\n",
        "import numpy as np\n",
        "import pandas as pd\n",
        "import matplotlib\n",
        "import matplotlib.pyplot as plt\n",
        "%matplotlib inline\n",
        "\n",
        "import warnings\n",
        "warnings.filterwarnings('ignore')"
      ],
      "execution_count": 0,
      "outputs": []
    },
    {
      "cell_type": "markdown",
      "metadata": {
        "id": "IuYLAdjg_0YJ",
        "colab_type": "text"
      },
      "source": [
        "## 2．scikit-learn内にある色々な機能をimportするよ!"
      ]
    },
    {
      "cell_type": "code",
      "metadata": {
        "id": "dlMuwm35-APd",
        "colab_type": "code",
        "colab": {}
      },
      "source": [
        "## アヤメのデータセットをimport\n",
        "from sklearn.datasets import load_iris\n",
        "## 訓練用データとテスト用データを分けるプログラムをimport\n",
        "from sklearn.model_selection import train_test_split\n",
        "## 分類するアルゴリズム(線形SVM)をimport\n",
        "from sklearn.svm import LinearSVC"
      ],
      "execution_count": 0,
      "outputs": []
    },
    {
      "cell_type": "markdown",
      "metadata": {
        "id": "o8ez01tuuTy2",
        "colab_type": "text"
      },
      "source": [
        "## 3．アヤメのデータをじっくり見ていく\n",
        "\n"
      ]
    },
    {
      "cell_type": "code",
      "metadata": {
        "id": "6cdvxI31ljmV",
        "colab_type": "code",
        "colab": {}
      },
      "source": [
        "## アヤメデータのインスタンス生成\n",
        "heacet = load_iris()"
      ],
      "execution_count": 0,
      "outputs": []
    },
    {
      "cell_type": "code",
      "metadata": {
        "id": "GY9riVeICccP",
        "colab_type": "code",
        "outputId": "50975336-b945-4eae-89ad-3a92c8045cfe",
        "colab": {
          "base_uri": "https://localhost:8080/",
          "height": 1000
        }
      },
      "source": [
        "## アヤメのデータの中身を見ていく\n",
        "print(\"与えられたデータ\")\n",
        "print(heacet.data)\n",
        "print(heacet.data.shape)\n",
        "print(\"-----------------\")\n",
        "print(\"予測するデータ\")\n",
        "print(heacet.target)\n",
        "print(heacet.target.shape)\n",
        "print(heacet.target_names)"
      ],
      "execution_count": 4,
      "outputs": [
        {
          "output_type": "stream",
          "text": [
            "与えられたデータ\n",
            "[[5.1 3.5 1.4 0.2]\n",
            " [4.9 3.  1.4 0.2]\n",
            " [4.7 3.2 1.3 0.2]\n",
            " [4.6 3.1 1.5 0.2]\n",
            " [5.  3.6 1.4 0.2]\n",
            " [5.4 3.9 1.7 0.4]\n",
            " [4.6 3.4 1.4 0.3]\n",
            " [5.  3.4 1.5 0.2]\n",
            " [4.4 2.9 1.4 0.2]\n",
            " [4.9 3.1 1.5 0.1]\n",
            " [5.4 3.7 1.5 0.2]\n",
            " [4.8 3.4 1.6 0.2]\n",
            " [4.8 3.  1.4 0.1]\n",
            " [4.3 3.  1.1 0.1]\n",
            " [5.8 4.  1.2 0.2]\n",
            " [5.7 4.4 1.5 0.4]\n",
            " [5.4 3.9 1.3 0.4]\n",
            " [5.1 3.5 1.4 0.3]\n",
            " [5.7 3.8 1.7 0.3]\n",
            " [5.1 3.8 1.5 0.3]\n",
            " [5.4 3.4 1.7 0.2]\n",
            " [5.1 3.7 1.5 0.4]\n",
            " [4.6 3.6 1.  0.2]\n",
            " [5.1 3.3 1.7 0.5]\n",
            " [4.8 3.4 1.9 0.2]\n",
            " [5.  3.  1.6 0.2]\n",
            " [5.  3.4 1.6 0.4]\n",
            " [5.2 3.5 1.5 0.2]\n",
            " [5.2 3.4 1.4 0.2]\n",
            " [4.7 3.2 1.6 0.2]\n",
            " [4.8 3.1 1.6 0.2]\n",
            " [5.4 3.4 1.5 0.4]\n",
            " [5.2 4.1 1.5 0.1]\n",
            " [5.5 4.2 1.4 0.2]\n",
            " [4.9 3.1 1.5 0.2]\n",
            " [5.  3.2 1.2 0.2]\n",
            " [5.5 3.5 1.3 0.2]\n",
            " [4.9 3.6 1.4 0.1]\n",
            " [4.4 3.  1.3 0.2]\n",
            " [5.1 3.4 1.5 0.2]\n",
            " [5.  3.5 1.3 0.3]\n",
            " [4.5 2.3 1.3 0.3]\n",
            " [4.4 3.2 1.3 0.2]\n",
            " [5.  3.5 1.6 0.6]\n",
            " [5.1 3.8 1.9 0.4]\n",
            " [4.8 3.  1.4 0.3]\n",
            " [5.1 3.8 1.6 0.2]\n",
            " [4.6 3.2 1.4 0.2]\n",
            " [5.3 3.7 1.5 0.2]\n",
            " [5.  3.3 1.4 0.2]\n",
            " [7.  3.2 4.7 1.4]\n",
            " [6.4 3.2 4.5 1.5]\n",
            " [6.9 3.1 4.9 1.5]\n",
            " [5.5 2.3 4.  1.3]\n",
            " [6.5 2.8 4.6 1.5]\n",
            " [5.7 2.8 4.5 1.3]\n",
            " [6.3 3.3 4.7 1.6]\n",
            " [4.9 2.4 3.3 1. ]\n",
            " [6.6 2.9 4.6 1.3]\n",
            " [5.2 2.7 3.9 1.4]\n",
            " [5.  2.  3.5 1. ]\n",
            " [5.9 3.  4.2 1.5]\n",
            " [6.  2.2 4.  1. ]\n",
            " [6.1 2.9 4.7 1.4]\n",
            " [5.6 2.9 3.6 1.3]\n",
            " [6.7 3.1 4.4 1.4]\n",
            " [5.6 3.  4.5 1.5]\n",
            " [5.8 2.7 4.1 1. ]\n",
            " [6.2 2.2 4.5 1.5]\n",
            " [5.6 2.5 3.9 1.1]\n",
            " [5.9 3.2 4.8 1.8]\n",
            " [6.1 2.8 4.  1.3]\n",
            " [6.3 2.5 4.9 1.5]\n",
            " [6.1 2.8 4.7 1.2]\n",
            " [6.4 2.9 4.3 1.3]\n",
            " [6.6 3.  4.4 1.4]\n",
            " [6.8 2.8 4.8 1.4]\n",
            " [6.7 3.  5.  1.7]\n",
            " [6.  2.9 4.5 1.5]\n",
            " [5.7 2.6 3.5 1. ]\n",
            " [5.5 2.4 3.8 1.1]\n",
            " [5.5 2.4 3.7 1. ]\n",
            " [5.8 2.7 3.9 1.2]\n",
            " [6.  2.7 5.1 1.6]\n",
            " [5.4 3.  4.5 1.5]\n",
            " [6.  3.4 4.5 1.6]\n",
            " [6.7 3.1 4.7 1.5]\n",
            " [6.3 2.3 4.4 1.3]\n",
            " [5.6 3.  4.1 1.3]\n",
            " [5.5 2.5 4.  1.3]\n",
            " [5.5 2.6 4.4 1.2]\n",
            " [6.1 3.  4.6 1.4]\n",
            " [5.8 2.6 4.  1.2]\n",
            " [5.  2.3 3.3 1. ]\n",
            " [5.6 2.7 4.2 1.3]\n",
            " [5.7 3.  4.2 1.2]\n",
            " [5.7 2.9 4.2 1.3]\n",
            " [6.2 2.9 4.3 1.3]\n",
            " [5.1 2.5 3.  1.1]\n",
            " [5.7 2.8 4.1 1.3]\n",
            " [6.3 3.3 6.  2.5]\n",
            " [5.8 2.7 5.1 1.9]\n",
            " [7.1 3.  5.9 2.1]\n",
            " [6.3 2.9 5.6 1.8]\n",
            " [6.5 3.  5.8 2.2]\n",
            " [7.6 3.  6.6 2.1]\n",
            " [4.9 2.5 4.5 1.7]\n",
            " [7.3 2.9 6.3 1.8]\n",
            " [6.7 2.5 5.8 1.8]\n",
            " [7.2 3.6 6.1 2.5]\n",
            " [6.5 3.2 5.1 2. ]\n",
            " [6.4 2.7 5.3 1.9]\n",
            " [6.8 3.  5.5 2.1]\n",
            " [5.7 2.5 5.  2. ]\n",
            " [5.8 2.8 5.1 2.4]\n",
            " [6.4 3.2 5.3 2.3]\n",
            " [6.5 3.  5.5 1.8]\n",
            " [7.7 3.8 6.7 2.2]\n",
            " [7.7 2.6 6.9 2.3]\n",
            " [6.  2.2 5.  1.5]\n",
            " [6.9 3.2 5.7 2.3]\n",
            " [5.6 2.8 4.9 2. ]\n",
            " [7.7 2.8 6.7 2. ]\n",
            " [6.3 2.7 4.9 1.8]\n",
            " [6.7 3.3 5.7 2.1]\n",
            " [7.2 3.2 6.  1.8]\n",
            " [6.2 2.8 4.8 1.8]\n",
            " [6.1 3.  4.9 1.8]\n",
            " [6.4 2.8 5.6 2.1]\n",
            " [7.2 3.  5.8 1.6]\n",
            " [7.4 2.8 6.1 1.9]\n",
            " [7.9 3.8 6.4 2. ]\n",
            " [6.4 2.8 5.6 2.2]\n",
            " [6.3 2.8 5.1 1.5]\n",
            " [6.1 2.6 5.6 1.4]\n",
            " [7.7 3.  6.1 2.3]\n",
            " [6.3 3.4 5.6 2.4]\n",
            " [6.4 3.1 5.5 1.8]\n",
            " [6.  3.  4.8 1.8]\n",
            " [6.9 3.1 5.4 2.1]\n",
            " [6.7 3.1 5.6 2.4]\n",
            " [6.9 3.1 5.1 2.3]\n",
            " [5.8 2.7 5.1 1.9]\n",
            " [6.8 3.2 5.9 2.3]\n",
            " [6.7 3.3 5.7 2.5]\n",
            " [6.7 3.  5.2 2.3]\n",
            " [6.3 2.5 5.  1.9]\n",
            " [6.5 3.  5.2 2. ]\n",
            " [6.2 3.4 5.4 2.3]\n",
            " [5.9 3.  5.1 1.8]]\n",
            "(150, 4)\n",
            "-----------------\n",
            "予測するデータ\n",
            "[0 0 0 0 0 0 0 0 0 0 0 0 0 0 0 0 0 0 0 0 0 0 0 0 0 0 0 0 0 0 0 0 0 0 0 0 0\n",
            " 0 0 0 0 0 0 0 0 0 0 0 0 0 1 1 1 1 1 1 1 1 1 1 1 1 1 1 1 1 1 1 1 1 1 1 1 1\n",
            " 1 1 1 1 1 1 1 1 1 1 1 1 1 1 1 1 1 1 1 1 1 1 1 1 1 1 2 2 2 2 2 2 2 2 2 2 2\n",
            " 2 2 2 2 2 2 2 2 2 2 2 2 2 2 2 2 2 2 2 2 2 2 2 2 2 2 2 2 2 2 2 2 2 2 2 2 2\n",
            " 2 2]\n",
            "(150,)\n",
            "['setosa' 'versicolor' 'virginica']\n"
          ],
          "name": "stdout"
        }
      ]
    },
    {
      "cell_type": "markdown",
      "metadata": {
        "id": "1H6uQa0SvFK1",
        "colab_type": "text"
      },
      "source": [
        "## 4.Pandasを用いてデータを分かりやすくする！\n"
      ]
    },
    {
      "cell_type": "code",
      "metadata": {
        "id": "jrYsMkwTy8dC",
        "colab_type": "code",
        "colab": {}
      },
      "source": [
        "heacet_data = pd.DataFrame(heacet.data, columns=[\"がく片の長さ\",\"がく片の幅\",\"花びらの長さ\",\"花びらの幅\"])\n",
        "heacet_target = pd.DataFrame(heacet.target, columns=[\"花の種類\"])\n",
        "heacet_all = pd.concat([heacet_data,heacet_target], axis=1)"
      ],
      "execution_count": 0,
      "outputs": []
    },
    {
      "cell_type": "code",
      "metadata": {
        "id": "BiE8ndpQRDu-",
        "colab_type": "code",
        "outputId": "5fd53760-7ded-43ec-9e56-3562bea20210",
        "colab": {
          "base_uri": "https://localhost:8080/",
          "height": 363
        }
      },
      "source": [
        "heacet_all.head(10)"
      ],
      "execution_count": 6,
      "outputs": [
        {
          "output_type": "execute_result",
          "data": {
            "text/html": [
              "<div>\n",
              "<style scoped>\n",
              "    .dataframe tbody tr th:only-of-type {\n",
              "        vertical-align: middle;\n",
              "    }\n",
              "\n",
              "    .dataframe tbody tr th {\n",
              "        vertical-align: top;\n",
              "    }\n",
              "\n",
              "    .dataframe thead th {\n",
              "        text-align: right;\n",
              "    }\n",
              "</style>\n",
              "<table border=\"1\" class=\"dataframe\">\n",
              "  <thead>\n",
              "    <tr style=\"text-align: right;\">\n",
              "      <th></th>\n",
              "      <th>がく片の長さ</th>\n",
              "      <th>がく片の幅</th>\n",
              "      <th>花びらの長さ</th>\n",
              "      <th>花びらの幅</th>\n",
              "      <th>花の種類</th>\n",
              "    </tr>\n",
              "  </thead>\n",
              "  <tbody>\n",
              "    <tr>\n",
              "      <th>0</th>\n",
              "      <td>5.1</td>\n",
              "      <td>3.5</td>\n",
              "      <td>1.4</td>\n",
              "      <td>0.2</td>\n",
              "      <td>0</td>\n",
              "    </tr>\n",
              "    <tr>\n",
              "      <th>1</th>\n",
              "      <td>4.9</td>\n",
              "      <td>3.0</td>\n",
              "      <td>1.4</td>\n",
              "      <td>0.2</td>\n",
              "      <td>0</td>\n",
              "    </tr>\n",
              "    <tr>\n",
              "      <th>2</th>\n",
              "      <td>4.7</td>\n",
              "      <td>3.2</td>\n",
              "      <td>1.3</td>\n",
              "      <td>0.2</td>\n",
              "      <td>0</td>\n",
              "    </tr>\n",
              "    <tr>\n",
              "      <th>3</th>\n",
              "      <td>4.6</td>\n",
              "      <td>3.1</td>\n",
              "      <td>1.5</td>\n",
              "      <td>0.2</td>\n",
              "      <td>0</td>\n",
              "    </tr>\n",
              "    <tr>\n",
              "      <th>4</th>\n",
              "      <td>5.0</td>\n",
              "      <td>3.6</td>\n",
              "      <td>1.4</td>\n",
              "      <td>0.2</td>\n",
              "      <td>0</td>\n",
              "    </tr>\n",
              "    <tr>\n",
              "      <th>5</th>\n",
              "      <td>5.4</td>\n",
              "      <td>3.9</td>\n",
              "      <td>1.7</td>\n",
              "      <td>0.4</td>\n",
              "      <td>0</td>\n",
              "    </tr>\n",
              "    <tr>\n",
              "      <th>6</th>\n",
              "      <td>4.6</td>\n",
              "      <td>3.4</td>\n",
              "      <td>1.4</td>\n",
              "      <td>0.3</td>\n",
              "      <td>0</td>\n",
              "    </tr>\n",
              "    <tr>\n",
              "      <th>7</th>\n",
              "      <td>5.0</td>\n",
              "      <td>3.4</td>\n",
              "      <td>1.5</td>\n",
              "      <td>0.2</td>\n",
              "      <td>0</td>\n",
              "    </tr>\n",
              "    <tr>\n",
              "      <th>8</th>\n",
              "      <td>4.4</td>\n",
              "      <td>2.9</td>\n",
              "      <td>1.4</td>\n",
              "      <td>0.2</td>\n",
              "      <td>0</td>\n",
              "    </tr>\n",
              "    <tr>\n",
              "      <th>9</th>\n",
              "      <td>4.9</td>\n",
              "      <td>3.1</td>\n",
              "      <td>1.5</td>\n",
              "      <td>0.1</td>\n",
              "      <td>0</td>\n",
              "    </tr>\n",
              "  </tbody>\n",
              "</table>\n",
              "</div>"
            ],
            "text/plain": [
              "   がく片の長さ  がく片の幅  花びらの長さ  花びらの幅  花の種類\n",
              "0     5.1    3.5     1.4    0.2     0\n",
              "1     4.9    3.0     1.4    0.2     0\n",
              "2     4.7    3.2     1.3    0.2     0\n",
              "3     4.6    3.1     1.5    0.2     0\n",
              "4     5.0    3.6     1.4    0.2     0\n",
              "5     5.4    3.9     1.7    0.4     0\n",
              "6     4.6    3.4     1.4    0.3     0\n",
              "7     5.0    3.4     1.5    0.2     0\n",
              "8     4.4    2.9     1.4    0.2     0\n",
              "9     4.9    3.1     1.5    0.1     0"
            ]
          },
          "metadata": {
            "tags": []
          },
          "execution_count": 6
        }
      ]
    },
    {
      "cell_type": "code",
      "metadata": {
        "id": "YRqte43ORJGN",
        "colab_type": "code",
        "outputId": "b2125dc0-89d8-4418-aaaf-135734c14414",
        "colab": {
          "base_uri": "https://localhost:8080/",
          "height": 300
        }
      },
      "source": [
        "heacet_all.describe()"
      ],
      "execution_count": 7,
      "outputs": [
        {
          "output_type": "execute_result",
          "data": {
            "text/html": [
              "<div>\n",
              "<style scoped>\n",
              "    .dataframe tbody tr th:only-of-type {\n",
              "        vertical-align: middle;\n",
              "    }\n",
              "\n",
              "    .dataframe tbody tr th {\n",
              "        vertical-align: top;\n",
              "    }\n",
              "\n",
              "    .dataframe thead th {\n",
              "        text-align: right;\n",
              "    }\n",
              "</style>\n",
              "<table border=\"1\" class=\"dataframe\">\n",
              "  <thead>\n",
              "    <tr style=\"text-align: right;\">\n",
              "      <th></th>\n",
              "      <th>がく片の長さ</th>\n",
              "      <th>がく片の幅</th>\n",
              "      <th>花びらの長さ</th>\n",
              "      <th>花びらの幅</th>\n",
              "      <th>花の種類</th>\n",
              "    </tr>\n",
              "  </thead>\n",
              "  <tbody>\n",
              "    <tr>\n",
              "      <th>count</th>\n",
              "      <td>150.000000</td>\n",
              "      <td>150.000000</td>\n",
              "      <td>150.000000</td>\n",
              "      <td>150.000000</td>\n",
              "      <td>150.000000</td>\n",
              "    </tr>\n",
              "    <tr>\n",
              "      <th>mean</th>\n",
              "      <td>5.843333</td>\n",
              "      <td>3.057333</td>\n",
              "      <td>3.758000</td>\n",
              "      <td>1.199333</td>\n",
              "      <td>1.000000</td>\n",
              "    </tr>\n",
              "    <tr>\n",
              "      <th>std</th>\n",
              "      <td>0.828066</td>\n",
              "      <td>0.435866</td>\n",
              "      <td>1.765298</td>\n",
              "      <td>0.762238</td>\n",
              "      <td>0.819232</td>\n",
              "    </tr>\n",
              "    <tr>\n",
              "      <th>min</th>\n",
              "      <td>4.300000</td>\n",
              "      <td>2.000000</td>\n",
              "      <td>1.000000</td>\n",
              "      <td>0.100000</td>\n",
              "      <td>0.000000</td>\n",
              "    </tr>\n",
              "    <tr>\n",
              "      <th>25%</th>\n",
              "      <td>5.100000</td>\n",
              "      <td>2.800000</td>\n",
              "      <td>1.600000</td>\n",
              "      <td>0.300000</td>\n",
              "      <td>0.000000</td>\n",
              "    </tr>\n",
              "    <tr>\n",
              "      <th>50%</th>\n",
              "      <td>5.800000</td>\n",
              "      <td>3.000000</td>\n",
              "      <td>4.350000</td>\n",
              "      <td>1.300000</td>\n",
              "      <td>1.000000</td>\n",
              "    </tr>\n",
              "    <tr>\n",
              "      <th>75%</th>\n",
              "      <td>6.400000</td>\n",
              "      <td>3.300000</td>\n",
              "      <td>5.100000</td>\n",
              "      <td>1.800000</td>\n",
              "      <td>2.000000</td>\n",
              "    </tr>\n",
              "    <tr>\n",
              "      <th>max</th>\n",
              "      <td>7.900000</td>\n",
              "      <td>4.400000</td>\n",
              "      <td>6.900000</td>\n",
              "      <td>2.500000</td>\n",
              "      <td>2.000000</td>\n",
              "    </tr>\n",
              "  </tbody>\n",
              "</table>\n",
              "</div>"
            ],
            "text/plain": [
              "           がく片の長さ       がく片の幅      花びらの長さ       花びらの幅        花の種類\n",
              "count  150.000000  150.000000  150.000000  150.000000  150.000000\n",
              "mean     5.843333    3.057333    3.758000    1.199333    1.000000\n",
              "std      0.828066    0.435866    1.765298    0.762238    0.819232\n",
              "min      4.300000    2.000000    1.000000    0.100000    0.000000\n",
              "25%      5.100000    2.800000    1.600000    0.300000    0.000000\n",
              "50%      5.800000    3.000000    4.350000    1.300000    1.000000\n",
              "75%      6.400000    3.300000    5.100000    1.800000    2.000000\n",
              "max      7.900000    4.400000    6.900000    2.500000    2.000000"
            ]
          },
          "metadata": {
            "tags": []
          },
          "execution_count": 7
        }
      ]
    },
    {
      "cell_type": "markdown",
      "metadata": {
        "id": "0ZvbHKFtvZU2",
        "colab_type": "text"
      },
      "source": [
        "## 5.データセットをtrain_test_splitで分割する！"
      ]
    },
    {
      "cell_type": "code",
      "metadata": {
        "id": "84acQOlfUqoH",
        "colab_type": "code",
        "colab": {}
      },
      "source": [
        "setsumei_train,setsumei_test,mokuteki_train,mokuteki_test = train_test_split(heacet_data, heacet_target, test_size=0.33)"
      ],
      "execution_count": 0,
      "outputs": []
    },
    {
      "cell_type": "code",
      "metadata": {
        "id": "cMDmbl-i8cEk",
        "colab_type": "code",
        "outputId": "567af55a-bc04-4f91-893f-4b72db3e9be4",
        "colab": {
          "base_uri": "https://localhost:8080/",
          "height": 206
        }
      },
      "source": [
        "setsumei_train.head(5)"
      ],
      "execution_count": 9,
      "outputs": [
        {
          "output_type": "execute_result",
          "data": {
            "text/html": [
              "<div>\n",
              "<style scoped>\n",
              "    .dataframe tbody tr th:only-of-type {\n",
              "        vertical-align: middle;\n",
              "    }\n",
              "\n",
              "    .dataframe tbody tr th {\n",
              "        vertical-align: top;\n",
              "    }\n",
              "\n",
              "    .dataframe thead th {\n",
              "        text-align: right;\n",
              "    }\n",
              "</style>\n",
              "<table border=\"1\" class=\"dataframe\">\n",
              "  <thead>\n",
              "    <tr style=\"text-align: right;\">\n",
              "      <th></th>\n",
              "      <th>がく片の長さ</th>\n",
              "      <th>がく片の幅</th>\n",
              "      <th>花びらの長さ</th>\n",
              "      <th>花びらの幅</th>\n",
              "    </tr>\n",
              "  </thead>\n",
              "  <tbody>\n",
              "    <tr>\n",
              "      <th>99</th>\n",
              "      <td>5.7</td>\n",
              "      <td>2.8</td>\n",
              "      <td>4.1</td>\n",
              "      <td>1.3</td>\n",
              "    </tr>\n",
              "    <tr>\n",
              "      <th>97</th>\n",
              "      <td>6.2</td>\n",
              "      <td>2.9</td>\n",
              "      <td>4.3</td>\n",
              "      <td>1.3</td>\n",
              "    </tr>\n",
              "    <tr>\n",
              "      <th>56</th>\n",
              "      <td>6.3</td>\n",
              "      <td>3.3</td>\n",
              "      <td>4.7</td>\n",
              "      <td>1.6</td>\n",
              "    </tr>\n",
              "    <tr>\n",
              "      <th>80</th>\n",
              "      <td>5.5</td>\n",
              "      <td>2.4</td>\n",
              "      <td>3.8</td>\n",
              "      <td>1.1</td>\n",
              "    </tr>\n",
              "    <tr>\n",
              "      <th>59</th>\n",
              "      <td>5.2</td>\n",
              "      <td>2.7</td>\n",
              "      <td>3.9</td>\n",
              "      <td>1.4</td>\n",
              "    </tr>\n",
              "  </tbody>\n",
              "</table>\n",
              "</div>"
            ],
            "text/plain": [
              "    がく片の長さ  がく片の幅  花びらの長さ  花びらの幅\n",
              "99     5.7    2.8     4.1    1.3\n",
              "97     6.2    2.9     4.3    1.3\n",
              "56     6.3    3.3     4.7    1.6\n",
              "80     5.5    2.4     3.8    1.1\n",
              "59     5.2    2.7     3.9    1.4"
            ]
          },
          "metadata": {
            "tags": []
          },
          "execution_count": 9
        }
      ]
    },
    {
      "cell_type": "code",
      "metadata": {
        "id": "RiPQmGPOoSJi",
        "colab_type": "code",
        "colab": {
          "base_uri": "https://localhost:8080/",
          "height": 300
        },
        "outputId": "2c624a4f-2053-41c7-fb80-c9029cd6d6d1"
      },
      "source": [
        "setsumei_train.describe()"
      ],
      "execution_count": 10,
      "outputs": [
        {
          "output_type": "execute_result",
          "data": {
            "text/html": [
              "<div>\n",
              "<style scoped>\n",
              "    .dataframe tbody tr th:only-of-type {\n",
              "        vertical-align: middle;\n",
              "    }\n",
              "\n",
              "    .dataframe tbody tr th {\n",
              "        vertical-align: top;\n",
              "    }\n",
              "\n",
              "    .dataframe thead th {\n",
              "        text-align: right;\n",
              "    }\n",
              "</style>\n",
              "<table border=\"1\" class=\"dataframe\">\n",
              "  <thead>\n",
              "    <tr style=\"text-align: right;\">\n",
              "      <th></th>\n",
              "      <th>がく片の長さ</th>\n",
              "      <th>がく片の幅</th>\n",
              "      <th>花びらの長さ</th>\n",
              "      <th>花びらの幅</th>\n",
              "    </tr>\n",
              "  </thead>\n",
              "  <tbody>\n",
              "    <tr>\n",
              "      <th>count</th>\n",
              "      <td>100.000000</td>\n",
              "      <td>100.000000</td>\n",
              "      <td>100.000000</td>\n",
              "      <td>100.00000</td>\n",
              "    </tr>\n",
              "    <tr>\n",
              "      <th>mean</th>\n",
              "      <td>5.829000</td>\n",
              "      <td>3.065000</td>\n",
              "      <td>3.726000</td>\n",
              "      <td>1.19300</td>\n",
              "    </tr>\n",
              "    <tr>\n",
              "      <th>std</th>\n",
              "      <td>0.767167</td>\n",
              "      <td>0.436093</td>\n",
              "      <td>1.740174</td>\n",
              "      <td>0.75602</td>\n",
              "    </tr>\n",
              "    <tr>\n",
              "      <th>min</th>\n",
              "      <td>4.300000</td>\n",
              "      <td>2.000000</td>\n",
              "      <td>1.100000</td>\n",
              "      <td>0.10000</td>\n",
              "    </tr>\n",
              "    <tr>\n",
              "      <th>25%</th>\n",
              "      <td>5.175000</td>\n",
              "      <td>2.800000</td>\n",
              "      <td>1.600000</td>\n",
              "      <td>0.37500</td>\n",
              "    </tr>\n",
              "    <tr>\n",
              "      <th>50%</th>\n",
              "      <td>5.800000</td>\n",
              "      <td>3.000000</td>\n",
              "      <td>4.200000</td>\n",
              "      <td>1.30000</td>\n",
              "    </tr>\n",
              "    <tr>\n",
              "      <th>75%</th>\n",
              "      <td>6.400000</td>\n",
              "      <td>3.325000</td>\n",
              "      <td>5.100000</td>\n",
              "      <td>1.80000</td>\n",
              "    </tr>\n",
              "    <tr>\n",
              "      <th>max</th>\n",
              "      <td>7.700000</td>\n",
              "      <td>4.400000</td>\n",
              "      <td>6.900000</td>\n",
              "      <td>2.50000</td>\n",
              "    </tr>\n",
              "  </tbody>\n",
              "</table>\n",
              "</div>"
            ],
            "text/plain": [
              "           がく片の長さ       がく片の幅      花びらの長さ      花びらの幅\n",
              "count  100.000000  100.000000  100.000000  100.00000\n",
              "mean     5.829000    3.065000    3.726000    1.19300\n",
              "std      0.767167    0.436093    1.740174    0.75602\n",
              "min      4.300000    2.000000    1.100000    0.10000\n",
              "25%      5.175000    2.800000    1.600000    0.37500\n",
              "50%      5.800000    3.000000    4.200000    1.30000\n",
              "75%      6.400000    3.325000    5.100000    1.80000\n",
              "max      7.700000    4.400000    6.900000    2.50000"
            ]
          },
          "metadata": {
            "tags": []
          },
          "execution_count": 10
        }
      ]
    },
    {
      "cell_type": "code",
      "metadata": {
        "id": "Ty2XNGpkCFyI",
        "colab_type": "code",
        "outputId": "42638c6c-3c68-4562-c2be-289b3cead8dd",
        "colab": {
          "base_uri": "https://localhost:8080/",
          "height": 206
        }
      },
      "source": [
        "mokuteki_train.head(5)"
      ],
      "execution_count": 11,
      "outputs": [
        {
          "output_type": "execute_result",
          "data": {
            "text/html": [
              "<div>\n",
              "<style scoped>\n",
              "    .dataframe tbody tr th:only-of-type {\n",
              "        vertical-align: middle;\n",
              "    }\n",
              "\n",
              "    .dataframe tbody tr th {\n",
              "        vertical-align: top;\n",
              "    }\n",
              "\n",
              "    .dataframe thead th {\n",
              "        text-align: right;\n",
              "    }\n",
              "</style>\n",
              "<table border=\"1\" class=\"dataframe\">\n",
              "  <thead>\n",
              "    <tr style=\"text-align: right;\">\n",
              "      <th></th>\n",
              "      <th>花の種類</th>\n",
              "    </tr>\n",
              "  </thead>\n",
              "  <tbody>\n",
              "    <tr>\n",
              "      <th>99</th>\n",
              "      <td>1</td>\n",
              "    </tr>\n",
              "    <tr>\n",
              "      <th>97</th>\n",
              "      <td>1</td>\n",
              "    </tr>\n",
              "    <tr>\n",
              "      <th>56</th>\n",
              "      <td>1</td>\n",
              "    </tr>\n",
              "    <tr>\n",
              "      <th>80</th>\n",
              "      <td>1</td>\n",
              "    </tr>\n",
              "    <tr>\n",
              "      <th>59</th>\n",
              "      <td>1</td>\n",
              "    </tr>\n",
              "  </tbody>\n",
              "</table>\n",
              "</div>"
            ],
            "text/plain": [
              "    花の種類\n",
              "99     1\n",
              "97     1\n",
              "56     1\n",
              "80     1\n",
              "59     1"
            ]
          },
          "metadata": {
            "tags": []
          },
          "execution_count": 11
        }
      ]
    },
    {
      "cell_type": "markdown",
      "metadata": {
        "id": "xrjumdq_CL1B",
        "colab_type": "text"
      },
      "source": [
        "## 6.Matplotlibを使ってデータを可視化しよう！\n",
        "### データの選択時に上下どちらの引数を使ってもOK\n",
        " * setsumei_train[mokuteki_train[\"花の種類\"] == 0][\"がく片の長さ\"]\n",
        " * setsumei_train[(mokuteki_train == 0).values][\"がく片の長さ\"]\n",
        " \n",
        "### 下のプログラムではどちらを使ってもOKということを示すために左右で使っています。"
      ]
    },
    {
      "cell_type": "code",
      "metadata": {
        "id": "x8Hv27OnNXk-",
        "colab_type": "code",
        "colab": {
          "base_uri": "https://localhost:8080/",
          "height": 313
        },
        "outputId": "e36150da-8a0c-47f0-a026-4fa07560240d"
      },
      "source": [
        "plt.scatter(setsumei_train[mokuteki_train[\"花の種類\"]==0][\"がく片の長さ\"],setsumei_train[(mokuteki_train == 0).values][\"がく片の幅\"],label=\"setosa\",cmap=\"rgb\")\n",
        "plt.scatter(setsumei_train[mokuteki_train[\"花の種類\"]==1][\"がく片の長さ\"],setsumei_train[(mokuteki_train == 1).values][\"がく片の幅\"],label=\"versicolor\",cmap=\"rgb\")\n",
        "plt.scatter(setsumei_train[mokuteki_train[\"花の種類\"]==2][\"がく片の長さ\"],setsumei_train[(mokuteki_train == 2).values][\"がく片の幅\"],label=\"virginica\",cmap=\"rgb\")\n",
        "\n",
        "## X軸の範囲を指定\n",
        "plt.xlim(3,9)\n",
        "## Y軸の範囲を指定\n",
        "plt.ylim(1,5)\n",
        "\n",
        "## X軸の名前\n",
        "plt.xlabel(\"Length of sepal\")\n",
        "## Y軸の名前\n",
        "plt.ylabel(\"Width of sepal\")\n",
        "\n",
        "## グラフのタイトル\n",
        "plt.title(\"Relation between length and width of sepal\")\n",
        "## 凡例を出力\n",
        "plt.legend()"
      ],
      "execution_count": 12,
      "outputs": [
        {
          "output_type": "execute_result",
          "data": {
            "text/plain": [
              "<matplotlib.legend.Legend at 0x7f3e90194128>"
            ]
          },
          "metadata": {
            "tags": []
          },
          "execution_count": 12
        },
        {
          "output_type": "display_data",
          "data": {
            "image/png": "[encoded data removed]",
            "text/plain": [
              "<Figure size 432x288 with 1 Axes>"
            ]
          },
          "metadata": {
            "tags": []
          }
        }
      ]
    },
    {
      "cell_type": "code",
      "metadata": {
        "id": "0z78XmMByENn",
        "colab_type": "code",
        "colab": {
          "base_uri": "https://localhost:8080/",
          "height": 313
        },
        "outputId": "43a64cb6-b97f-4b65-d829-f5a73cdb52dd"
      },
      "source": [
        "plt.scatter(setsumei_train[mokuteki_train[\"花の種類\"]==0][\"花びらの長さ\"],setsumei_train[(mokuteki_train == 0).values][\"花びらの幅\"],label=\"setosa\",cmap=\"rgb\")\n",
        "plt.scatter(setsumei_train[mokuteki_train[\"花の種類\"]==1][\"花びらの長さ\"],setsumei_train[(mokuteki_train == 1).values][\"花びらの幅\"],label=\"versicolor\",cmap=\"rgb\")\n",
        "plt.scatter(setsumei_train[mokuteki_train[\"花の種類\"]==2][\"花びらの長さ\"],setsumei_train[(mokuteki_train == 2).values][\"花びらの幅\"],label=\"virginica\",cmap=\"rgb\")\n",
        "\n",
        "plt.xlim(0,8)\n",
        "plt.ylim(0,4)\n",
        "\n",
        "plt.xlabel(\"Length of petal\")\n",
        "plt.ylabel(\"Width of petal\")\n",
        "\n",
        "plt.title(\"Relation between length and width of petal\")\n",
        "plt.legend()"
      ],
      "execution_count": 13,
      "outputs": [
        {
          "output_type": "execute_result",
          "data": {
            "text/plain": [
              "<matplotlib.legend.Legend at 0x7f3e8d45a2e8>"
            ]
          },
          "metadata": {
            "tags": []
          },
          "execution_count": 13
        },
        {
          "output_type": "display_data",
          "data": {
            "image/png": "[encoded data removed]",
            "text/plain": [
              "<Figure size 432x288 with 1 Axes>"
            ]
          },
          "metadata": {
            "tags": []
          }
        }
      ]
    },
    {
      "cell_type": "markdown",
      "metadata": {
        "id": "EUujFNRp1xKt",
        "colab_type": "text"
      },
      "source": [
        "## 7.機械学習アルゴリズムを使っていこう！\n",
        "* 使うのは線形SVM(LinearSVC)\n",
        "### 特徴量として以下の２つの組み合わせを使う！\n",
        "  * [\"がく片の長さ\"]と[\"がく片の幅\"]のがく片コンビ\n",
        "  * [\"花びらの長さ\"]と[\"花びらの幅\"]の花びらコンビ\n",
        "\n"
      ]
    },
    {
      "cell_type": "code",
      "metadata": {
        "id": "AvxDawm8rrvd",
        "colab_type": "code",
        "colab": {}
      },
      "source": [
        "## がく片コンビのDataFrameを作成する。\n",
        "gakuhen_train = setsumei_train.loc[:,[\"がく片の長さ\",\"がく片の幅\"]]\n",
        "\n",
        "## 花びらコンビのDataFrameを作成する。\n",
        "hanabira_train = setsumei_train.loc[:,[\"花びらの長さ\",\"花びらの幅\"]]\n"
      ],
      "execution_count": 0,
      "outputs": []
    },
    {
      "cell_type": "code",
      "metadata": {
        "id": "MPtsJCdBOczf",
        "colab_type": "code",
        "colab": {}
      },
      "source": [
        "## それぞれモデルを構築\n",
        "gakuhen_model = LinearSVC()\n",
        "hanabira_model = LinearSVC()\n",
        "\n",
        "## それぞれのモデルに学習させる\n",
        "gakuhen_model.fit(gakuhen_train,mokuteki_train)\n",
        "hanabira_model.fit(hanabira_train,mokuteki_train)\n",
        "\n",
        "## それぞれのモデルで予測させて、予測値を代入させる\n",
        "gakuhen_predict = gakuhen_model.predict(setsumei_test.loc[:,[\"がく片の長さ\",\"がく片の幅\"]])\n",
        "hanabira_predict = hanabira_model.predict(setsumei_test.loc[:,[\"花びらの長さ\",\"花びらの幅\"]])"
      ],
      "execution_count": 0,
      "outputs": []
    },
    {
      "cell_type": "code",
      "metadata": {
        "id": "DPFrn87_O-r0",
        "colab_type": "code",
        "colab": {
          "base_uri": "https://localhost:8080/",
          "height": 53
        },
        "outputId": "37416892-9345-49eb-9c47-222100d2db55"
      },
      "source": [
        "## sklearnライブラリからscore算出の関数をimport\n",
        "from sklearn.metrics import accuracy_score\n",
        "\n",
        "## gakuhen_scoreとhanabira_scoreにそれぞれに結果を代入\n",
        "gakuhen_score = accuracy_score(mokuteki_test, gakuhen_predict)\n",
        "hanabira_score = accuracy_score(mokuteki_test, hanabira_predict)\n",
        "\n",
        "print('がく片の長さと幅コンビの正解率：{}'.format(gakuhen_score),'花びらの長さと幅コンビの正解率：{}'.format(hanabira_score), sep='\\n')"
      ],
      "execution_count": 16,
      "outputs": [
        {
          "output_type": "stream",
          "text": [
            "がく片の長さと幅コンビの正解率：0.74\n",
            "花びらの長さと幅コンビの正解率：0.92\n"
          ],
          "name": "stdout"
        }
      ]
    },
    {
      "cell_type": "code",
      "metadata": {
        "id": "kKPCiyq-R_dm",
        "colab_type": "code",
        "colab": {}
      },
      "source": [
        "def heacet_border_check(H, M, model, param1, param2, resolution=0.01):\n",
        "    H1_min, H1_max = H[param1].min()-0.5, H[param1].max()+0.5\n",
        "    H2_min, H2_max = H[param2].min()-0.5, H[param2].max()+0.5\n",
        "    H1, H2 = np.meshgrid(np.arange(H1_min, H1_max, resolution),\n",
        "                           np.arange(H2_min, H2_max, resolution))\n",
        "    n = np.array([H1.ravel(), H2.ravel()]).T\n",
        "    Z = model.predict(n)\n",
        "    Z = Z.reshape(H1.shape)\n",
        "    plt.contourf(H1, H2, Z, alpha=0.5, cmap=\"Set2\")\n",
        "    plt.xlim(H1_min, H1_max)\n",
        "    plt.ylim(H2_min, H2_max)\n",
        "    plt.xlabel(\"Length\")\n",
        "    plt.ylabel(\"Width\")\n",
        "    plt.scatter(H[param1],H[param2], c=M[\"花の種類\"], cmap=\"brg\")"
      ],
      "execution_count": 0,
      "outputs": []
    },
    {
      "cell_type": "code",
      "metadata": {
        "id": "our9mwAXTO7N",
        "colab_type": "code",
        "colab": {
          "base_uri": "https://localhost:8080/",
          "height": 279
        },
        "outputId": "4b42808b-565a-4a1a-f66a-15d1dc6af76b"
      },
      "source": [
        "heacet_border_check(setsumei_train, mokuteki_train, gakuhen_model, \"がく片の長さ\", \"がく片の幅\")"
      ],
      "execution_count": 18,
      "outputs": [
        {
          "output_type": "display_data",
          "data": {
            "image/png": "[encoded data removed]",
            "text/plain": [
              "<Figure size 432x288 with 1 Axes>"
            ]
          },
          "metadata": {
            "tags": []
          }
        }
      ]
    },
    {
      "cell_type": "code",
      "metadata": {
        "id": "Lu5ZOy1IACms",
        "colab_type": "code",
        "colab": {
          "base_uri": "https://localhost:8080/",
          "height": 283
        },
        "outputId": "7b4f502c-a949-4263-a846-f8ac7ceab411"
      },
      "source": [
        "heacet_border_check(setsumei_train, mokuteki_train, hanabira_model, \"花びらの長さ\", \"花びらの幅\")"
      ],
      "execution_count": 19,
      "outputs": [
        {
          "output_type": "display_data",
          "data": {
            "image/png": "[encoded data removed]",
            "text/plain": [
              "<Figure size 432x288 with 1 Axes>"
            ]
          },
          "metadata": {
            "tags": []
          }
        }
      ]
    },
    {
      "cell_type": "code",
      "metadata": {
        "id": "oikpk_6NB0ea",
        "colab_type": "code",
        "colab": {}
      },
      "source": [
        ""
      ],
      "execution_count": 0,
      "outputs": []
    }
  ]
}